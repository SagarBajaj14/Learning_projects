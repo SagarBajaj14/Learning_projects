{
  "nbformat": 4,
  "nbformat_minor": 0,
  "metadata": {
    "colab": {
      "name": "Gender_prediction_usingRandomForest.ipynb",
      "provenance": [],
      "authorship_tag": "ABX9TyOWosAgrzZJRm0WWGDp6VUb",
      "include_colab_link": true
    },
    "kernelspec": {
      "name": "python3",
      "display_name": "Python 3"
    },
    "language_info": {
      "name": "python"
    }
  },
  "cells": [
    {
      "cell_type": "markdown",
      "metadata": {
        "id": "view-in-github",
        "colab_type": "text"
      },
      "source": [
        "<a href=\"https://colab.research.google.com/github/SagarBajaj14/Learning_projects/blob/main/Gender_prediction_usingRandomForest.ipynb\" target=\"_parent\"><img src=\"https://colab.research.google.com/assets/colab-badge.svg\" alt=\"Open In Colab\"/></a>"
      ]
    },
    {
      "cell_type": "code",
      "source": [
        "''' Dataset: https://www.ssa.gov/oact/babynames/names.zip\n",
        "There can be various parameters to determine gender from a name for eg. characteristics such as first and last letter of a name and so on. \n",
        "When we convert words into numbers whith encoding we will get output vector containing 1000s of features.\n",
        "In this example we can achieve an accuracy of 80% using only three features to determine gender from a name.\n",
        "'''\n",
        "import sklearn\n",
        "import numpy as np\n",
        "from sklearn.model_selection import train_test_split, cross_val_score \n",
        "from sklearn.ensemble import RandomForestClassifier \n",
        "from sklearn import svm"
      ],
      "metadata": {
        "id": "rb_CPH31l1YG"
      },
      "execution_count": 89,
      "outputs": []
    },
    {
      "cell_type": "code",
      "source": [
        "#Checking frequency of all letters in a name \n",
        "def name_count(name):\n",
        "  arr = np.zeros(52)\n",
        "  for i,j in enumerate(name):\n",
        "    arr[ord('j')-ord('a')] += 1 \n",
        "  return arr\n",
        "\n",
        "data = np.genfromtxt('yob2021.txt',delimiter=',',dtype = None,names=[('name'),('gender'),('count')],encoding=None,converters={0: lambda s:s.lower()})\n",
        "data = np.array([row for row in data if row[2]>=25])\n",
        "name_map = np.vectorize(name_count, otypes=[np.ndarray])\n",
        "X_name = data['name']\n",
        "Xl = name_map(X_name)\n",
        "X = np.array(Xl.tolist())\n",
        "Y = data['gender']\n",
        "\n",
        "for i in range(5):\n",
        "  X_train,X_test,Y_train,Y_test = train_test_split(X,Y, test_size = 0.33)\n",
        "  res = RandomForestClassifier(n_estimators = 150, min_samples_split = 20)\n",
        "  res.fit(X_train,Y_train)\n",
        "  print(np.mean(res.predict(X_test) == Y_test))"
      ],
      "metadata": {
        "colab": {
          "base_uri": "https://localhost:8080/"
        },
        "id": "D3RJLsdUuNtq",
        "outputId": "8a9cec47-d04e-4e94-9b63-d843039d612c"
      },
      "execution_count": 90,
      "outputs": [
        {
          "output_type": "stream",
          "name": "stdout",
          "text": [
            "0.5593820405535886\n",
            "0.5551979401351786\n",
            "0.5574509172835532\n",
            "0.5465078854200193\n",
            "0.5539105246218217\n"
          ]
        }
      ]
    },
    {
      "cell_type": "code",
      "source": [
        "#Checking frequency of all letters in a name and ordering them.\n",
        "def name_count(name):\n",
        "  arr = np.zeros(52)\n",
        "  for i,j in enumerate(name):\n",
        "    arr[ord('j')-ord('a')] += 1 \n",
        "    arr[ord('j')-ord('a') + 26] += i+1 \n",
        "  return arr\n",
        "\n",
        "data = np.genfromtxt('yob2021.txt',delimiter=',',dtype = None,names=[('name'),('gender'),('count')],encoding=None,converters={0: lambda s:s.lower()})\n",
        "data = np.array([row for row in data if row[2]>=25])\n",
        "name_map = np.vectorize(name_count, otypes=[np.ndarray])\n",
        "X_name = data['name']\n",
        "Xl = name_map(X_name)\n",
        "X = np.array(Xl.tolist())\n",
        "Y = data['gender']\n",
        "\n",
        "for i in range(5):\n",
        "  X_train,X_test,Y_train,Y_test = train_test_split(X,Y, test_size = 0.33)\n",
        "  res = RandomForestClassifier(n_estimators = 150, min_samples_split = 20)\n",
        "  res.fit(X_train,Y_train)\n",
        "  print(np.mean(res.predict(X_test) == Y_test))"
      ],
      "metadata": {
        "colab": {
          "base_uri": "https://localhost:8080/"
        },
        "id": "hfFbIi4MyLOM",
        "outputId": "475df1d6-44a3-46b4-a1a5-5590c9467239"
      },
      "execution_count": 91,
      "outputs": [
        {
          "output_type": "stream",
          "name": "stdout",
          "text": [
            "0.5561635017701964\n",
            "0.5600257483102672\n",
            "0.5523012552301255\n",
            "0.5597038944319279\n",
            "0.5551979401351786\n"
          ]
        }
      ]
    },
    {
      "cell_type": "code",
      "source": [
        "def name_count(name):\n",
        " arr = np.zeros(52+26*26) # 26 dimensions for each letter\n",
        " for i, j in enumerate(name):\n",
        "  arr[ord('j')-ord('a')] += 1\n",
        "  arr[ord('j')-ord('a')+26] += i+1\n",
        "\n",
        "# Considering bi-grams as feature(eg.'aa','ab' and so on)\n",
        " for x in range(len(name)-1):\n",
        "  ind = (ord(name[x])-ord('a'))*26 + (ord(name[x+1])-ord('a'))\n",
        "  arr[ind] += 1\n",
        " return arr\n",
        "\n",
        "data = np.genfromtxt('yob2021.txt',delimiter=',',dtype = None,names=[('name'),('gender'),('count')],encoding=None,converters={0: lambda s:s.lower()})\n",
        "data = np.array([row for row in data if row[2]>=25])\n",
        "name_map = np.vectorize(name_count, otypes=[np.ndarray])\n",
        "X_name = data['name']\n",
        "Xl = name_map(X_name)\n",
        "X = np.array(Xl.tolist())\n",
        "Y = data['gender']\n",
        "\n",
        "for i in range(5):\n",
        "  X_train,X_test,Y_train,Y_test = train_test_split(X,Y, test_size = 0.33)\n",
        "  res = RandomForestClassifier(n_estimators = 150, min_samples_split = 20)\n",
        "  res.fit(X_train,Y_train)\n",
        "  print(np.mean(res.predict(X_test) == Y_test))"
      ],
      "metadata": {
        "colab": {
          "base_uri": "https://localhost:8080/"
        },
        "id": "6gVaNyi89fgt",
        "outputId": "2c0f6ae9-f9cf-46e5-e3d8-e3774ec4466e"
      },
      "execution_count": 92,
      "outputs": [
        {
          "output_type": "stream",
          "name": "stdout",
          "text": [
            "0.7360798197618281\n",
            "0.7347924042484711\n",
            "0.733183134856775\n",
            "0.7389765046668813\n",
            "0.7405857740585774\n"
          ]
        }
      ]
    },
    {
      "cell_type": "code",
      "source": [
        "def name_count(name):\n",
        " arr = np.zeros(52+26*26+3)\n",
        " for i, j in enumerate(name):\n",
        "  arr[ord('j')-ord('a')] += 1\n",
        "  arr[ord('j')-ord('a')+26] += i+1\n",
        "\n",
        " for x in range(len(name)-1):\n",
        "  ind = (ord(name[x])-ord('a'))*26 + (ord(name[x+1])-ord('a')) + 52\n",
        "  arr[ind] += 1\n",
        "# inlcuding last letter, second last letter and length of name as features.\n",
        " arr[-3] = ord(name[-1])-ord('a')\n",
        " \n",
        " arr[-2] = ord(name[-2])-ord('a')\n",
        "\n",
        " arr[-1] = len(name)\n",
        " return arr\n",
        "\n",
        "data = np.genfromtxt('yob2021.txt',delimiter=',',dtype = None,names=[('name'),('gender'),('count')],encoding=None,converters={0: lambda s:s.lower()})\n",
        "data = np.array([row for row in data if row[2]>=20])\n",
        "name_map = np.vectorize(name_count, otypes=[np.ndarray])\n",
        "X_name = data['name']\n",
        "Xl = name_map(X_name)\n",
        "X = np.array(Xl.tolist())\n",
        "Y = data['gender']\n",
        "\n",
        "for i in range(5):\n",
        "  X_train,X_test,Y_train,Y_test = train_test_split(X,Y, test_size = 0.33)\n",
        "  res = RandomForestClassifier(n_estimators = 150, min_samples_split = 20)\n",
        "  res.fit(X_train,Y_train)\n",
        "  print(np.mean(res.predict(X_test) == Y_test))"
      ],
      "metadata": {
        "colab": {
          "base_uri": "https://localhost:8080/"
        },
        "id": "Dg9b-L8i-Oma",
        "outputId": "6612753f-239e-4bf3-ad57-50c3a8fa8321"
      },
      "execution_count": 93,
      "outputs": [
        {
          "output_type": "stream",
          "name": "stdout",
          "text": [
            "0.8054945054945055\n",
            "0.8038461538461539\n",
            "0.7994505494505495\n",
            "0.8002747252747253\n",
            "0.7898351648351648\n"
          ]
        }
      ]
    },
    {
      "cell_type": "code",
      "source": [
        "# Checking importance of last letter feature \n",
        "def name_count(name):\n",
        "  arr = np.zeros(1)\n",
        "  arr[0] = ord(name[-1])-ord('a')+1\n",
        "  return arr\n",
        "\n",
        "data = np.genfromtxt('yob2021.txt',delimiter=',',dtype = None,names=[('name'),('gender'),('count')],encoding=None,converters={0: lambda s:s.lower()})\n",
        "data = np.array([row for row in data if row[2]>=20])\n",
        "name_map = np.vectorize(name_count, otypes=[np.ndarray])\n",
        "X_name = data['name']\n",
        "Xl = name_map(X_name)\n",
        "X = np.array(Xl.tolist())\n",
        "Y = data['gender']\n",
        "\n",
        "for i in range(5):\n",
        "  X_train,X_test,Y_train,Y_test = train_test_split(X,Y, test_size = 0.33)\n",
        "  res = RandomForestClassifier(n_estimators = 150, min_samples_split = 20)\n",
        "  res.fit(X_train,Y_train)\n",
        "  print(np.mean(res.predict(X_test) == Y_test))"
      ],
      "metadata": {
        "colab": {
          "base_uri": "https://localhost:8080/"
        },
        "id": "fnFUAiyS_qlD",
        "outputId": "a5d9ea43-7644-4436-a76c-6623bf5c06fc"
      },
      "execution_count": 94,
      "outputs": [
        {
          "output_type": "stream",
          "name": "stdout",
          "text": [
            "0.759065934065934\n",
            "0.7521978021978022\n",
            "0.7673076923076924\n",
            "0.7618131868131868\n",
            "0.7521978021978022\n"
          ]
        }
      ]
    },
    {
      "cell_type": "code",
      "source": [
        "#Combing top three features(last and second last letter, order of a)\n",
        "#Many words are derived from latin so occurence of a's and o's is important in determing gender.\n",
        "def name_count(name):\n",
        "  arr = np.zeros(3)\n",
        "  arr[0] = ord(name[-1])-ord('a')+1\n",
        "  arr[1] = ord(name[-2])-ord('a')+1\n",
        "\n",
        "  for i, j in enumerate(name):\n",
        "    if j == 'a':\n",
        "      arr[2] += i+1\n",
        "  return arr\n",
        "\n",
        "data = np.genfromtxt('yob2021.txt',delimiter=',',dtype = None,names=[('name'),('gender'),('count')],encoding=None,converters={0: lambda s:s.lower()})\n",
        "data = np.array([row for row in data if row[2]>=20])\n",
        "name_map = np.vectorize(name_count, otypes=[np.ndarray])\n",
        "X_name = data['name']\n",
        "Xl = name_map(X_name)\n",
        "X = np.array(Xl.tolist())\n",
        "Y = data['gender']\n",
        "\n",
        "for i in range(5):\n",
        "  X_train,X_test,Y_train,Y_test = train_test_split(X,Y, test_size = 0.33)\n",
        "  res = RandomForestClassifier(n_estimators = 150, min_samples_split = 20)\n",
        "  res.fit(X_train,Y_train)\n",
        "  print(np.mean(res.predict(X_test) == Y_test))\n"
      ],
      "metadata": {
        "colab": {
          "base_uri": "https://localhost:8080/"
        },
        "id": "KukLCfs1_5cj",
        "outputId": "cb4abc20-11da-409d-9564-230f755f8e31"
      },
      "execution_count": 95,
      "outputs": [
        {
          "output_type": "stream",
          "name": "stdout",
          "text": [
            "0.7942307692307692\n",
            "0.7923076923076923\n",
            "0.7837912087912088\n",
            "0.7906593406593406\n",
            "0.782967032967033\n"
          ]
        }
      ]
    },
    {
      "cell_type": "code",
      "source": [
        "def name_count(name):\n",
        "  arr = np.zeros(3)\n",
        "  arr[0] = ord(name[-1])-ord('a')+1\n",
        "  arr[1] = ord(name[-2])-ord('a')+1\n",
        "\n",
        "  for i, j in enumerate(name):\n",
        "    if j == 'a':\n",
        "      arr[2] += i+1\n",
        "  return arr\n",
        "\n",
        "data = np.genfromtxt('yob2021.txt',delimiter=',',dtype = None,names=[('name'),('gender'),('count')],encoding=None,converters={0: lambda s:s.lower()})\n",
        "data = np.array([row for row in data if row[2]>=20])\n",
        "name_map = np.vectorize(name_count, otypes=[np.ndarray])\n",
        "X_name = data['name']\n",
        "Xl = name_map(X_name)\n",
        "X = np.array(Xl.tolist())\n",
        "Y = data['gender']\n",
        "\n",
        "X_train,X_test,Y_train,Y_test = train_test_split(X,Y, test_size = 0.33)\n",
        "res = RandomForestClassifier(n_estimators = 150, min_samples_split = 20)\n",
        "res.fit(X_train,Y_train)\n",
        "\n",
        "index = np.random.choice(np.arange(len(Xl)), 10,replace = False)\n",
        "X_sam = X_name[index]\n",
        "Y_sam = Y[index]\n",
        "pred = res.predict(X[index])\n",
        "\n",
        "print('Name', 'Actual', 'Predicted')\n",
        "for a,b, r in zip(X_sam,Y_sam, pred):\n",
        "  print(a, b , r)"
      ],
      "metadata": {
        "colab": {
          "base_uri": "https://localhost:8080/"
        },
        "id": "L5FfqKdLAi-g",
        "outputId": "7fd21f7a-32db-4602-f36e-69a8f0393ff1"
      },
      "execution_count": 96,
      "outputs": [
        {
          "output_type": "stream",
          "name": "stdout",
          "text": [
            "Name Actual Predicted\n",
            "kayci F F\n",
            "naftuli M F\n",
            "jaycion M M\n",
            "wylder M M\n",
            "douglas M M\n",
            "vedh M M\n",
            "swayze M M\n",
            "cheyenne F F\n",
            "donnie M F\n",
            "nadia F F\n"
          ]
        }
      ]
    }
  ]
}